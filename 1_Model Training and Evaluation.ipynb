{
 "cells": [
  {
   "attachments": {},
   "cell_type": "markdown",
   "id": "4ef44915",
   "metadata": {},
   "source": [
    "# Ensemble Learning\n",
    "Group Challenge\n",
    "\n",
    "***\n",
    "by: Paul Bédier, Lukasz Pszenny, Lasse Schmidt\n",
    "\n",
    "within: MS Data Sciences & Business Analytics\n",
    "\n",
    "at: CentraleSupélec & ESSEC Business School\n",
    "***"
   ]
  },
  {
   "cell_type": "markdown",
   "id": "188db833",
   "metadata": {},
   "source": [
    "### 1. Import Packages"
   ]
  },
  {
   "cell_type": "code",
   "execution_count": 31,
   "id": "da34ead6",
   "metadata": {},
   "outputs": [
    {
     "data": {
      "text/plain": [
       "<module 'util.preprocess_data' from 'd:\\\\Dokumente\\\\2_Bildung\\\\2_MSc\\\\1_Classes\\\\Y2T2_Ensemble Learning\\\\4_challenge\\\\Ensemble-Learning-on-AirBnb-dataset\\\\util\\\\preprocess_data.py'>"
      ]
     },
     "execution_count": 31,
     "metadata": {},
     "output_type": "execute_result"
    }
   ],
   "source": [
    "from importlib import reload\n",
    "reload(prepData)"
   ]
  },
  {
   "cell_type": "code",
   "execution_count": 1,
   "id": "704672c7",
   "metadata": {},
   "outputs": [],
   "source": [
    "# import own scripts\n",
    "import util.preprocess_data as prepData"
   ]
  },
  {
   "cell_type": "code",
   "execution_count": 12,
   "id": "2cd630e9",
   "metadata": {},
   "outputs": [],
   "source": [
    "# parse & handle data\n",
    "import csv\n",
    "import numpy as np\n",
    "import pandas as pd\n",
    "from PIL import Image\n",
    "\n",
    "# modeling tools\n",
    "from sklearn.model_selection import train_test_split\n",
    "from sklearn.metrics import r2_score\n",
    "\n",
    "# models\n",
    "from sklearn.ensemble import RandomForestRegressor\n",
    "from xgboost import XGBRegressor\n",
    "\n",
    "\n",
    "# visualization\n",
    "from matplotlib import cm\n",
    "import matplotlib.pyplot as plt\n",
    "import seaborn as sns"
   ]
  },
  {
   "cell_type": "code",
   "execution_count": 3,
   "id": "1469707a",
   "metadata": {},
   "outputs": [],
   "source": [
    "# set matplotlib and seaborn settings for nicer plots\n",
    "%matplotlib inline\n",
    "\n",
    "SMALL_SIZE = 6\n",
    "MEDIUM_SIZE = 8\n",
    "BIGGER_SIZE = 10\n",
    "\n",
    "plt.rc('font', size=SMALL_SIZE)          # controls default text sizes\n",
    "plt.rc('axes', titlesize=BIGGER_SIZE)     # fontsize of the axes title\n",
    "plt.rc('axes', labelsize=MEDIUM_SIZE)    # fontsize of the x and y labels\n",
    "plt.rc('xtick', labelsize=SMALL_SIZE)    # fontsize of the tick labels\n",
    "plt.rc('ytick', labelsize=SMALL_SIZE)    # fontsize of the tick labels\n",
    "plt.rc('legend', fontsize=MEDIUM_SIZE)    # legend fontsize\n",
    "plt.rc('figure', titlesize=BIGGER_SIZE)  # fontsize of the figure title"
   ]
  },
  {
   "attachments": {},
   "cell_type": "markdown",
   "id": "15dc027f",
   "metadata": {},
   "source": [
    "### 2. Retrieve Data"
   ]
  },
  {
   "cell_type": "code",
   "execution_count": 4,
   "id": "a3be9030",
   "metadata": {},
   "outputs": [
    {
     "name": "stdout",
     "output_type": "stream",
     "text": [
      "(48895, 15)\n",
      "(39116, 15)\n",
      "(9779, 15)\n"
     ]
    }
   ],
   "source": [
    "# Read data\n",
    "airbnb = pd.read_csv('data/AB_NYC_2019.csv', index_col=0)\n",
    "\n",
    "# perform train test split\n",
    "airbnb_train, airbnb_test = train_test_split(airbnb, test_size = 0.2)\n",
    "\n",
    "# validate what happened\n",
    "print(airbnb.shape)\n",
    "print(airbnb_train.shape)\n",
    "print(airbnb_test.shape)"
   ]
  },
  {
   "cell_type": "code",
   "execution_count": 5,
   "id": "b1f73629",
   "metadata": {},
   "outputs": [],
   "source": [
    "# which columns we want to drop\n",
    "drop_cols = [\"name\", \"host_id\", \"neighbourhood\", \"neighbourhood_group\", \"room_type\", \"last_review\", \"last_review_recency\"]\n",
    "\n",
    "# preprocess training data\n",
    "airbnb_train, impute_threshs, encode_threshs = prepData.prep_pipeline(airbnb_train, drop_cols = drop_cols)\n",
    "\n",
    "# preprocess test data (using same thresholds as for training data)\n",
    "airbnb_test, _, _ = prepData.prep_pipeline(airbnb_test, drop_cols = drop_cols, impute_threshs = impute_threshs, encode_threshs = encode_threshs)"
   ]
  },
  {
   "cell_type": "code",
   "execution_count": 6,
   "id": "b8d8cbc2",
   "metadata": {},
   "outputs": [
    {
     "name": "stdout",
     "output_type": "stream",
     "text": [
      "(39116, 13) (39116,)\n",
      "(9779, 13) (9779,)\n"
     ]
    }
   ],
   "source": [
    "# split data into X & y\n",
    "X_train, y_train = prepData.split_frame(airbnb_train)\n",
    "X_test,  y_test  = prepData.split_frame(airbnb_test)\n",
    "\n",
    "# validate\n",
    "print(X_train.shape, y_train.shape)\n",
    "print(X_test.shape,  y_test.shape)"
   ]
  },
  {
   "cell_type": "code",
   "execution_count": 7,
   "id": "c0971872",
   "metadata": {},
   "outputs": [
    {
     "data": {
      "text/plain": [
       "latitude                          0\n",
       "longitude                         0\n",
       "minimum_nights                    0\n",
       "number_of_reviews                 0\n",
       "reviews_per_month                 0\n",
       "calculated_host_listings_count    0\n",
       "availability_365                  0\n",
       "last_review_recency_log_noise     0\n",
       "room_type_enc                     0\n",
       "distance_l1                       0\n",
       "distance_l2                       0\n",
       "l2_mean                           0\n",
       "l2_sd                             0\n",
       "dtype: int64"
      ]
     },
     "execution_count": 7,
     "metadata": {},
     "output_type": "execute_result"
    }
   ],
   "source": [
    "# dataframe must contain no missing values!\n",
    "X_train.isna().sum()"
   ]
  },
  {
   "attachments": {},
   "cell_type": "markdown",
   "id": "646c1aa5",
   "metadata": {},
   "source": [
    "### 3. Start Modeling"
   ]
  },
  {
   "cell_type": "code",
   "execution_count": 11,
   "id": "13544063",
   "metadata": {},
   "outputs": [
    {
     "data": {
      "text/plain": [
       "0.8714612201492138"
      ]
     },
     "execution_count": 11,
     "metadata": {},
     "output_type": "execute_result"
    }
   ],
   "source": [
    "# basic random forest model\n",
    "clf = RandomForestRegressor(n_estimators = 100, criterion = \"squared_error\")\n",
    "clf.fit(X_train, y_train)\n",
    "\n",
    "# predict\n",
    "y_pred = clf.predict(X_train)\n",
    "\n",
    "# compute R^2 metric\n",
    "r2_score(y_train, y_pred)"
   ]
  },
  {
   "cell_type": "code",
   "execution_count": 27,
   "id": "06d9e5d7",
   "metadata": {},
   "outputs": [
    {
     "data": {
      "text/plain": [
       "0.7300918451244958"
      ]
     },
     "execution_count": 27,
     "metadata": {},
     "output_type": "execute_result"
    }
   ],
   "source": [
    "# basic XGBoost\n",
    "clf = XGBRegressor(n_estimators = 100, max_depth = 7, eta = 0.1, subsample = 0.7, colsample_bytree = 0.8)\n",
    "clf.fit(X_train, y_train)\n",
    "\n",
    "# predict\n",
    "y_pred = clf.predict(X_train)\n",
    "\n",
    "# compute R^2 metric\n",
    "r2_score(y_train, y_pred)"
   ]
  }
 ],
 "metadata": {
  "kernelspec": {
   "display_name": "Python 3",
   "language": "python",
   "name": "python3"
  },
  "language_info": {
   "codemirror_mode": {
    "name": "ipython",
    "version": 3
   },
   "file_extension": ".py",
   "mimetype": "text/x-python",
   "name": "python",
   "nbconvert_exporter": "python",
   "pygments_lexer": "ipython3",
   "version": "3.10.8"
  },
  "vscode": {
   "interpreter": {
    "hash": "e4b47e28e038445e56fbfd9976a918ca13a60b13cd5b316a4218435cb808300e"
   }
  }
 },
 "nbformat": 4,
 "nbformat_minor": 5
}
